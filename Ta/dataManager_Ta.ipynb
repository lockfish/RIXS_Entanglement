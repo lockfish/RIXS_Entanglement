{
 "cells": [
  {
   "cell_type": "code",
   "execution_count": 1,
   "id": "5582e50d-5ca5-41c0-b7d6-ad89b5a9469c",
   "metadata": {},
   "outputs": [],
   "source": [
    "import numpy as np\n",
    "import h5py\n",
    "folder='calc_Ba3TaIr2O9'"
   ]
  },
  {
   "cell_type": "markdown",
   "id": "7d15a092-3753-47e1-a7b7-4b30f339af5d",
   "metadata": {},
   "source": [
    "# Cut Map Data"
   ]
  },
  {
   "cell_type": "code",
   "execution_count": 2,
   "id": "76faae94-30a0-4555-a5dc-cf0ee33c3b87",
   "metadata": {
    "tags": []
   },
   "outputs": [],
   "source": [
    "f = h5py.File('HDF5/Ta_data_cutMap.hdf5', 'w')\n",
    "for grp_name, scan_no in enumerate([49,48,41,45]):\n",
    "    grp = f.create_group(str(grp_name))\n",
    "    scan = dict(np.load(f'data_Ba3TaIr2O9/scan_{scan_no}.npz'))\n",
    "    scan['Ei']=11.216\n",
    "    for dset_name in scan:\n",
    "        dset = grp.create_dataset(dset_name, data = scan[dset_name])\n",
    "f.close()"
   ]
  },
  {
   "cell_type": "code",
   "execution_count": 3,
   "id": "baa69bbf-1846-49c0-a9b8-a9fdd508e002",
   "metadata": {},
   "outputs": [],
   "source": [
    "f = h5py.File('HDF5/Ta_calc_cutMap.hdf5', 'w')\n",
    "rixs = np.load(folder+'/rixs.npy')\n",
    "yscale = 3.\n",
    "HKL = np.array([[-1.70, -1.10, 16.21], [-1.72, -1.08, 13.52], \n",
    "                [-0.21, -0.31, 16.15], [-0.19, -0.33, 18.84]])\n",
    "for grp_name in np.arange(0,4):\n",
    "    grp = f.create_group(str(grp_name))\n",
    "    dset = grp.create_dataset('Ei', data=11.216)\n",
    "    dset = grp.create_dataset('eloss', data=rixs[0])\n",
    "    dset = grp.create_dataset('rixs', data=rixs[grp_name+1]*yscale)\n",
    "    dset = grp.create_dataset('HKL', data=HKL[grp_name])\n",
    "f.close()"
   ]
  },
  {
   "cell_type": "markdown",
   "id": "ab542787-3f80-4b1e-8cde-7ae2c113cc1a",
   "metadata": {},
   "source": [
    "# Energy Map Data"
   ]
  },
  {
   "cell_type": "code",
   "execution_count": 4,
   "id": "f737a868-d650-4360-8a27-7e1deacb670b",
   "metadata": {},
   "outputs": [],
   "source": [
    "f = h5py.File('HDF5/Ta_data_energyMap.hdf5', 'w')\n",
    "for grp_name, scan_no in enumerate([3,6,9,12,15,18]):\n",
    "    grp = f.create_group(str(grp_name))\n",
    "    scan = dict(np.load(f'data_Ba3TaIr2O9/scan_{scan_no}.npz'))\n",
    "    scan['Ei']=np.mean(scan['Ei'])\n",
    "    for dset_name in scan:\n",
    "        dset = grp.create_dataset(dset_name, data = scan[dset_name])\n",
    "f.close()"
   ]
  },
  {
   "cell_type": "code",
   "execution_count": 5,
   "id": "e8615089-633c-43f7-a238-58ef663fa3f4",
   "metadata": {},
   "outputs": [],
   "source": [
    "f = h5py.File('HDF5/Ta_calc_energyMap.hdf5', 'w')\n",
    "yscale = 3.\n",
    "Emap_calc = dict(np.load(folder+'/rixs_Emap.npz'))\n",
    "Emap_calc['omega'] = (Emap_calc['omega']+11774.5)/1000\n",
    "Emap_calc['HKL'] = np.array([-0.50, 0.00, 18.40])\n",
    "Emap_calc['rixs'] *= yscale\n",
    "\n",
    "grp=f.create_group('energyMap')\n",
    "for dset_name in Emap_calc:\n",
    "    dset = grp.create_dataset(dset_name, data = Emap_calc[dset_name])\n",
    "f.close()"
   ]
  },
  {
   "cell_type": "markdown",
   "id": "05865ced-c49f-4b3f-9b8b-d2b922e15bb5",
   "metadata": {},
   "source": [
    "# Q Map Data"
   ]
  },
  {
   "cell_type": "code",
   "execution_count": 6,
   "id": "09c3b91d-337d-44ae-bde3-c1a89a090859",
   "metadata": {},
   "outputs": [],
   "source": [
    "f = h5py.File('HDF5/Ta_data_qMap.hdf5', 'w')\n",
    "for grp_name, scan_no in enumerate([31,30,29,28,27,26,32,25,33,24,34,23,35,22,36,21]):\n",
    "    grp = f.create_group(str(grp_name).zfill(2))\n",
    "    scan = dict(np.load(f'data_Ba3TaIr2O9/scan_{scan_no}.npz'))\n",
    "    scan['Ei']=11.216\n",
    "    for dset_name in scan:\n",
    "        dset = grp.create_dataset(dset_name, data = scan[dset_name])\n",
    "f.close()"
   ]
  },
  {
   "cell_type": "code",
   "execution_count": 7,
   "id": "a80a937f-d87f-45a3-a30d-6bc1ddcf0328",
   "metadata": {},
   "outputs": [],
   "source": [
    "f = h5py.File('HDF5/Ta_calc_qMap.hdf5', 'w')\n",
    "yscale=3.0\n",
    "Lmap_calc = dict(np.load(folder+'/rixs_Ldep.npz'))\n",
    "Lmap_calc['Ei'] = 11.216\n",
    "Lmap_calc['rixs'] *= yscale\n",
    "\n",
    "grp=f.create_group('qMap')\n",
    "for dset_name in Lmap_calc:\n",
    "    dset = grp.create_dataset(dset_name, data = Lmap_calc[dset_name])\n",
    "f.close()"
   ]
  },
  {
   "cell_type": "code",
   "execution_count": null,
   "id": "dfa8f4a6-23da-40b5-9646-9131a06cb095",
   "metadata": {},
   "outputs": [],
   "source": []
  }
 ],
 "metadata": {
  "kernelspec": {
   "display_name": "Python 3 (ipykernel)",
   "language": "python",
   "name": "python3"
  },
  "language_info": {
   "codemirror_mode": {
    "name": "ipython",
    "version": 3
   },
   "file_extension": ".py",
   "mimetype": "text/x-python",
   "name": "python",
   "nbconvert_exporter": "python",
   "pygments_lexer": "ipython3",
   "version": "3.9.16"
  }
 },
 "nbformat": 4,
 "nbformat_minor": 5
}
