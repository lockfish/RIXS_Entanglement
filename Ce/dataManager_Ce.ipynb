{
 "cells": [
  {
   "cell_type": "code",
   "execution_count": 1,
   "id": "5582e50d-5ca5-41c0-b7d6-ad89b5a9469c",
   "metadata": {},
   "outputs": [],
   "source": [
    "import numpy as np\n",
    "import h5py\n",
    "import math\n",
    "folder='calc_Ba3CeIr2O9/compare'"
   ]
  },
  {
   "cell_type": "markdown",
   "id": "7d15a092-3753-47e1-a7b7-4b30f339af5d",
   "metadata": {},
   "source": [
    "# Cut Map Data"
   ]
  },
  {
   "cell_type": "code",
   "execution_count": 2,
   "id": "76faae94-30a0-4555-a5dc-cf0ee33c3b87",
   "metadata": {
    "tags": []
   },
   "outputs": [],
   "source": [
    "f = h5py.File('HDF5/Ce_data_cutMap.hdf5', 'w')\n",
    "for grp_name, scan_no in enumerate([115,114,161,155,119,118]):\n",
    "    grp = f.create_group(str(grp_name))\n",
    "    scan = dict(np.load(f'data_Ba3CeIr2O9/scan_{scan_no}.npz'))\n",
    "    scan['Ei']=11.216\n",
    "    for dset_name in scan:\n",
    "        dset = grp.create_dataset(dset_name, data = scan[dset_name])\n",
    "f.close()"
   ]
  },
  {
   "cell_type": "code",
   "execution_count": 3,
   "id": "baa69bbf-1846-49c0-a9b8-a9fdd508e002",
   "metadata": {},
   "outputs": [],
   "source": [
    "f = h5py.File('HDF5/Ce_calc_cutMap.hdf5', 'w')\n",
    "yscale = 2.7\n",
    "rixs = np.load(folder+'/rixs.npy')\n",
    "HKL = np.array([[-3.30, 0.00, 17.48], [-3.30, 0.00, 14.57], [-0.50, 0.00, 17.48],\n",
    "    [-0.50, 0.00, 14.57], [0.50, 0.00, 17.48], [0.50, 0.00, 14.57]])\n",
    "for grp_name in np.arange(0,6):\n",
    "    grp = f.create_group(str(grp_name))\n",
    "    dset = grp.create_dataset('Ei', data=11.216)\n",
    "    dset = grp.create_dataset('eloss', data=rixs[0])\n",
    "    dset = grp.create_dataset('rixs', data=rixs[grp_name+1]*yscale)\n",
    "    dset = grp.create_dataset('HKL', data=HKL[grp_name])\n",
    "f.close()"
   ]
  },
  {
   "cell_type": "markdown",
   "id": "ab542787-3f80-4b1e-8cde-7ae2c113cc1a",
   "metadata": {},
   "source": [
    "# Energy Map Data"
   ]
  },
  {
   "cell_type": "code",
   "execution_count": 4,
   "id": "f737a868-d650-4360-8a27-7e1deacb670b",
   "metadata": {},
   "outputs": [],
   "source": [
    "f = h5py.File('HDF5/Ce_data_energyMap.hdf5', 'w')\n",
    "for grp_name, scan_no in enumerate([121,134,135,136,137,138,140,141]):\n",
    "    grp = f.create_group(str(grp_name))\n",
    "    scan = dict(np.load(f'data_Ba3CeIr2O9/scan_{scan_no}.npz'))\n",
    "    for dset_name in scan:\n",
    "        dset = grp.create_dataset(dset_name, data = scan[dset_name])\n",
    "f.close()"
   ]
  },
  {
   "cell_type": "code",
   "execution_count": 5,
   "id": "e8615089-633c-43f7-a238-58ef663fa3f4",
   "metadata": {},
   "outputs": [],
   "source": [
    "f = h5py.File('HDF5/Ce_calc_energyMap.hdf5', 'w')\n",
    "yscale = 2.7\n",
    "Emap_calc = dict(np.load(folder+'/rixs_Emap.npz'))\n",
    "Emap_calc['omega'] = (Emap_calc['omega']+11774.5)/1000\n",
    "Emap_calc['HKL'] = np.array([-0.50, 0.00, 18.94])\n",
    "Emap_calc['rixs'] *= yscale\n",
    "\n",
    "grp=f.create_group('energyMap')\n",
    "for dset_name in Emap_calc:\n",
    "    dset = grp.create_dataset(dset_name, data = Emap_calc[dset_name])\n",
    "f.close()"
   ]
  },
  {
   "cell_type": "markdown",
   "id": "05865ced-c49f-4b3f-9b8b-d2b922e15bb5",
   "metadata": {},
   "source": [
    "# Q Map Data"
   ]
  },
  {
   "cell_type": "code",
   "execution_count": 6,
   "id": "09c3b91d-337d-44ae-bde3-c1a89a090859",
   "metadata": {},
   "outputs": [],
   "source": [
    "f = h5py.File('HDF5/Ce_data_qMap.hdf5', 'w')\n",
    "for grp_name, scan_no in enumerate(np.hstack([np.arange(147,156),157,np.arange(160,163),164])):\n",
    "    grp = f.create_group(str(grp_name).zfill(2))\n",
    "    scan = dict(np.load(f'data_Ba3CeIr2O9/scan_{scan_no}.npz'))\n",
    "    scan['Ei']=11.216\n",
    "    for dset_name in scan:\n",
    "        dset = grp.create_dataset(dset_name, data = scan[dset_name])\n",
    "f.close()"
   ]
  },
  {
   "cell_type": "code",
   "execution_count": 7,
   "id": "a80a937f-d87f-45a3-a30d-6bc1ddcf0328",
   "metadata": {},
   "outputs": [],
   "source": [
    "f = h5py.File('HDF5/Ce_calc_qMap.hdf5', 'w')\n",
    "yscale = 2.7\n",
    "Lmap_calc = dict(np.load(folder+'/rixs_Ldep.npz'))\n",
    "Lmap_calc['Ei'] = 11.216\n",
    "Lmap_calc['rixs'] *= yscale\n",
    "\n",
    "grp=f.create_group('qMap')\n",
    "for dset_name in Lmap_calc:\n",
    "    dset = grp.create_dataset(dset_name, data = Lmap_calc[dset_name])\n",
    "f.close()"
   ]
  },
  {
   "cell_type": "markdown",
   "id": "38d3d8e4-071b-44d1-88a2-0f7acc35f067",
   "metadata": {},
   "source": [
    "# Level Data"
   ]
  },
  {
   "cell_type": "code",
   "execution_count": null,
   "id": "d9d817bf-8b05-44b4-a465-caad5456a293",
   "metadata": {},
   "outputs": [],
   "source": [
    "folder='Ird10_param_dep'"
   ]
  },
  {
   "cell_type": "code",
   "execution_count": null,
   "id": "cd1e03ec-6e62-4dec-8e6c-a61125d61df6",
   "metadata": {},
   "outputs": [],
   "source": [
    "f = h5py.File('HDF5/evals_soc.hdf5', 'w')\n",
    "dth = 0.\n",
    "Vdd = 0.\n",
    "for soc in np.arange(0.,0.331,0.002):\n",
    "    evals = np.load('Ird10_param_dep/evals_soc_{:.3f}_dth_{:.2f}_Vdd_{:.2f}.npy'.format(soc, dth, Vdd))\n",
    "    grp = f.create_group('soc_{:.3f}_dth_{:.2f}_Vdd_{:.2f}'.format(soc, dth, Vdd))\n",
    "    grp.create_dataset('soc', data=soc)\n",
    "    grp.create_dataset('dth', data=dth)\n",
    "    grp.create_dataset('Vdd', data=Vdd)\n",
    "    grp.create_dataset('evals', data=evals)\n",
    "f.close()"
   ]
  },
  {
   "cell_type": "code",
   "execution_count": null,
   "id": "915db868-88f4-43e8-a186-76e35e0fc54a",
   "metadata": {},
   "outputs": [],
   "source": [
    "f = h5py.File('HDF5/evals_dth.hdf5', 'w')\n",
    "soc = 0.33\n",
    "Vdd = 0.\n",
    "for dth in np.arange(-0.001,3.801,0.1):\n",
    "    evals = np.load('Ird10_param_dep/evals_soc_{:.3f}_dth_{:.2f}_Vdd_{:.2f}.npy'.format(soc, -dth, Vdd))\n",
    "    # evals[4:12]=np.mean(evals[4:12])\n",
    "    # evals[12:20]=np.mean(evals[12:20])\n",
    "    grp = f.create_group('soc_{:.3f}_dth_{:.2f}_Vdd_{:.2f}'.format(soc, -dth, Vdd))\n",
    "    grp.create_dataset('soc', data=soc)\n",
    "    grp.create_dataset('dth', data=dth)\n",
    "    grp.create_dataset('Vdd', data=Vdd)\n",
    "    grp.create_dataset('evals', data=evals)\n",
    "f.close()"
   ]
  },
  {
   "cell_type": "code",
   "execution_count": null,
   "id": "c5f620cb-33a3-4335-a16c-8dd8d2c1960b",
   "metadata": {},
   "outputs": [],
   "source": [
    "f = h5py.File('HDF5/evals_Vdd.hdf5', 'w')\n",
    "soc = 0.33\n",
    "dth = 3.8\n",
    "for Vdd in np.arange(0.,1.401,0.02):\n",
    "    evals = np.load('Ird10_param_dep/evals_soc_{:.3f}_dth_{:.2f}_Vdd_{:.2f}.npy'.format(soc, -dth, Vdd))\n",
    "#     if Vdd<1.28:\n",
    "#         evals[1:4]=np.mean(evals[1:4])\n",
    "#     elif Vdd<1.36:\n",
    "#         evals[3:6]=np.mean(evals[3:6])\n",
    "#     else:\n",
    "#         evals[5:8]=np.mean(evals[5:8])\n",
    "        \n",
    "#     if Vdd<0.52:\n",
    "#         evals[8:12]=np.mean(evals[8:12])\n",
    "#     elif Vdd<0.8:\n",
    "#         evals[12:16]=np.mean(evals[12:16])\n",
    "#     elif Vdd<1.38:\n",
    "#         evals[13:17]=np.mean(evals[13:17])\n",
    "    grp = f.create_group('soc_{:.3f}_dth_{:.2f}_Vdd_{:.2f}'.format(soc, -dth, Vdd))\n",
    "    grp.create_dataset('soc', data=soc)\n",
    "    grp.create_dataset('dth', data=dth)\n",
    "    grp.create_dataset('Vdd', data=Vdd)\n",
    "    grp.create_dataset('evals', data=evals)\n",
    "f.close()"
   ]
  }
 ],
 "metadata": {
  "kernelspec": {
   "display_name": "Python 3 (ipykernel)",
   "language": "python",
   "name": "python3"
  },
  "language_info": {
   "codemirror_mode": {
    "name": "ipython",
    "version": 3
   },
   "file_extension": ".py",
   "mimetype": "text/x-python",
   "name": "python",
   "nbconvert_exporter": "python",
   "pygments_lexer": "ipython3",
   "version": "3.9.16"
  }
 },
 "nbformat": 4,
 "nbformat_minor": 5
}
